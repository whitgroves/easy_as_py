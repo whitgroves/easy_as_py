{
 "cells": [
  {
   "cell_type": "markdown",
   "metadata": {},
   "source": [
    "Nothing to see here, just extra space to play with basic concepts from course videos."
   ]
  },
  {
   "cell_type": "code",
   "execution_count": 3,
   "metadata": {
    "collapsed": false
   },
   "outputs": [
    {
     "name": "stdout",
     "output_type": "stream",
     "text": [
      "Before:\n",
      "5\n",
      "Abc\n",
      "['Saturday', 'Monday']\n",
      "{'Pi': 3.14}\n",
      "\n",
      "After:\n",
      "5\n",
      "Abc\n",
      "['Saturday', 'Monday', 'Tuesday']\n",
      "{'Pi': 3.1415}\n"
     ]
    }
   ],
   "source": [
    "# Nerdmode: This is an example of pass-by-object reference, which is also used in Java.\n",
    "someNum = 5\n",
    "someStr = \"Abc\"\n",
    "someList = [\"Saturday\",\"Monday\"]\n",
    "someDict = {\"Pi\":3.14}\n",
    "\n",
    "def functionThatReassigns(someNum, someStr, someList, someDict):\n",
    "    someNum = someNum + 10\n",
    "    someStr = someStr + \"xyz\"\n",
    "    someList.append(\"Tuesday\")\n",
    "    someDict[\"Pi\"] = 3.1415\n",
    "    return\n",
    "\n",
    "print(\"Before:\\n{0}\\n{1}\\n{2}\\n{3}\".format(someNum, someStr, someList, someDict))\n",
    "functionThatReassigns(someNum, someStr, someList, someDict)\n",
    "print(\"\\nAfter:\\n{0}\\n{1}\\n{2}\\n{3}\".format(someNum, someStr, someList, someDict))"
   ]
  },
  {
   "cell_type": "code",
   "execution_count": null,
   "metadata": {
    "collapsed": true
   },
   "outputs": [],
   "source": []
  },
  {
   "cell_type": "code",
   "execution_count": null,
   "metadata": {
    "collapsed": true
   },
   "outputs": [],
   "source": []
  },
  {
   "cell_type": "code",
   "execution_count": null,
   "metadata": {
    "collapsed": true
   },
   "outputs": [],
   "source": []
  },
  {
   "cell_type": "code",
   "execution_count": null,
   "metadata": {
    "collapsed": true
   },
   "outputs": [],
   "source": []
  },
  {
   "cell_type": "code",
   "execution_count": null,
   "metadata": {
    "collapsed": true
   },
   "outputs": [],
   "source": []
  },
  {
   "cell_type": "code",
   "execution_count": null,
   "metadata": {
    "collapsed": true
   },
   "outputs": [],
   "source": []
  },
  {
   "cell_type": "code",
   "execution_count": null,
   "metadata": {
    "collapsed": true
   },
   "outputs": [],
   "source": []
  },
  {
   "cell_type": "code",
   "execution_count": null,
   "metadata": {
    "collapsed": true
   },
   "outputs": [],
   "source": []
  },
  {
   "cell_type": "code",
   "execution_count": null,
   "metadata": {
    "collapsed": true
   },
   "outputs": [],
   "source": []
  },
  {
   "cell_type": "code",
   "execution_count": null,
   "metadata": {
    "collapsed": true
   },
   "outputs": [],
   "source": []
  },
  {
   "cell_type": "code",
   "execution_count": null,
   "metadata": {
    "collapsed": true
   },
   "outputs": [],
   "source": []
  },
  {
   "cell_type": "code",
   "execution_count": null,
   "metadata": {
    "collapsed": true
   },
   "outputs": [],
   "source": []
  }
 ],
 "metadata": {
  "kernelspec": {
   "display_name": "Python 3",
   "language": "python",
   "name": "python3"
  },
  "language_info": {
   "codemirror_mode": {
    "name": "ipython",
    "version": 3
   },
   "file_extension": ".py",
   "mimetype": "text/x-python",
   "name": "python",
   "nbconvert_exporter": "python",
   "pygments_lexer": "ipython3",
   "version": "3.5.2"
  }
 },
 "nbformat": 4,
 "nbformat_minor": 0
}
