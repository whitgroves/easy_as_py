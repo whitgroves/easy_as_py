{
 "cells": [
  {
   "cell_type": "code",
   "execution_count": 1,
   "metadata": {
    "collapsed": false
   },
   "outputs": [],
   "source": [
    "import urllib.request\n",
    "import sys"
   ]
  },
  {
   "cell_type": "code",
   "execution_count": 5,
   "metadata": {
    "collapsed": true
   },
   "outputs": [],
   "source": [
    "urlToRead = 'http://www.google.com'\n",
    "# Need a dummy URL because the while loop terminates on a blank URL."
   ]
  },
  {
   "cell_type": "code",
   "execution_count": 6,
   "metadata": {
    "collapsed": true
   },
   "outputs": [],
   "source": [
    "crawledWebLinks = {}\n",
    "# Initialize empty dict of websites to be stored as (shortname, url). eg (\"Google\", \"http://www.google.com\")"
   ]
  },
  {
   "cell_type": "code",
   "execution_count": 7,
   "metadata": {
    "collapsed": false
   },
   "outputs": [
    {
     "name": "stdout",
     "output_type": "stream",
     "text": [
      "Please enter the next URL to crawl: https://medium.com\n",
      "Please enter a name to save the URL https://medium.com: medium\n",
      "*******************\n",
      "Unexpected Error******** <class 'urllib.error.HTTPError'>\n",
      "Enter 1 to stop, press any other key to continue.http://google.com\n",
      "Continuing...\n",
      "Please enter the next URL to crawl: http://google.com\n",
      "Please enter a name to save the URL http://google.com: google\n",
      "Preparing for next URL...\n",
      "Please enter the next URL to crawl: \n",
      "Exiting loop.\n",
      "URL crawl complete.\n",
      "dict_keys(['google'])\n"
     ]
    }
   ],
   "source": [
    "while urlToRead != '':\n",
    "    try:\n",
    "        urlToRead = input(\"Please enter the next URL to crawl: \")\n",
    "        if urlToRead == \"\":\n",
    "            print(\"Exiting loop.\")\n",
    "            break\n",
    "        shortName = input(\"Please enter a name to save the URL \" + urlToRead + \": \")\n",
    "        webFile = urllib.request.urlopen(urlToRead).read()\n",
    "        #urlopen goes to the url, downloads contents as HTML and returns them stored in a string variable.\n",
    "        crawledWebLinks[shortName] = webFile\n",
    "    except:\n",
    "        print(\"*******************\\nUnexpected Error********\",sys.exc_info()[0])\n",
    "        #sys.exc_info()[0] returns info about the last error that occured.\n",
    "        stopOrProceed = input(\"Enter 1 to stop, press any other key to continue.\")\n",
    "        if stopOrProceed == \"1\":\n",
    "            print(\"Stopping loop.\")\n",
    "            break\n",
    "        else:\n",
    "            print(\"Continuing...\")\n",
    "            continue\n",
    "    print(\"Preparing for next URL...\")\n",
    "print(\"URL crawl complete.\")\n",
    "print(crawledWebLinks.keys())"
   ]
  },
  {
   "cell_type": "code",
   "execution_count": null,
   "metadata": {
    "collapsed": true
   },
   "outputs": [],
   "source": []
  },
  {
   "cell_type": "code",
   "execution_count": null,
   "metadata": {
    "collapsed": true
   },
   "outputs": [],
   "source": []
  },
  {
   "cell_type": "code",
   "execution_count": null,
   "metadata": {
    "collapsed": true
   },
   "outputs": [],
   "source": []
  },
  {
   "cell_type": "code",
   "execution_count": null,
   "metadata": {
    "collapsed": true
   },
   "outputs": [],
   "source": []
  },
  {
   "cell_type": "code",
   "execution_count": null,
   "metadata": {
    "collapsed": true
   },
   "outputs": [],
   "source": []
  },
  {
   "cell_type": "code",
   "execution_count": null,
   "metadata": {
    "collapsed": true
   },
   "outputs": [],
   "source": []
  },
  {
   "cell_type": "code",
   "execution_count": null,
   "metadata": {
    "collapsed": true
   },
   "outputs": [],
   "source": []
  },
  {
   "cell_type": "code",
   "execution_count": null,
   "metadata": {
    "collapsed": true
   },
   "outputs": [],
   "source": []
  },
  {
   "cell_type": "code",
   "execution_count": null,
   "metadata": {
    "collapsed": true
   },
   "outputs": [],
   "source": []
  },
  {
   "cell_type": "code",
   "execution_count": null,
   "metadata": {
    "collapsed": true
   },
   "outputs": [],
   "source": []
  },
  {
   "cell_type": "code",
   "execution_count": null,
   "metadata": {
    "collapsed": true
   },
   "outputs": [],
   "source": []
  },
  {
   "cell_type": "code",
   "execution_count": null,
   "metadata": {
    "collapsed": true
   },
   "outputs": [],
   "source": []
  },
  {
   "cell_type": "code",
   "execution_count": null,
   "metadata": {
    "collapsed": true
   },
   "outputs": [],
   "source": []
  },
  {
   "cell_type": "code",
   "execution_count": null,
   "metadata": {
    "collapsed": true
   },
   "outputs": [],
   "source": []
  },
  {
   "cell_type": "code",
   "execution_count": null,
   "metadata": {
    "collapsed": true
   },
   "outputs": [],
   "source": []
  },
  {
   "cell_type": "code",
   "execution_count": null,
   "metadata": {
    "collapsed": true
   },
   "outputs": [],
   "source": []
  },
  {
   "cell_type": "code",
   "execution_count": null,
   "metadata": {
    "collapsed": true
   },
   "outputs": [],
   "source": []
  }
 ],
 "metadata": {
  "kernelspec": {
   "display_name": "Python 3",
   "language": "python",
   "name": "python3"
  },
  "language_info": {
   "codemirror_mode": {
    "name": "ipython",
    "version": 3
   },
   "file_extension": ".py",
   "mimetype": "text/x-python",
   "name": "python",
   "nbconvert_exporter": "python",
   "pygments_lexer": "ipython3",
   "version": "3.5.2"
  }
 },
 "nbformat": 4,
 "nbformat_minor": 0
}
