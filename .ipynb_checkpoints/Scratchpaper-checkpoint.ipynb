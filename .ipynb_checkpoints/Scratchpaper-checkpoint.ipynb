{
 "cells": [
  {
   "cell_type": "markdown",
   "metadata": {},
   "source": [
    "Nothing to see here, just extra space to play with concepts from the course."
   ]
  },
  {
   "cell_type": "code",
   "execution_count": 37,
   "metadata": {
    "collapsed": true
   },
   "outputs": [],
   "source": [
    "# Recursion practice: reversing the letters of a string\n",
    "def reverseString(inputStr):\n",
    "    if inputStr is None: # Check for empty input.\n",
    "        return inputStr\n",
    "    \n",
    "    if (len(inputStr) <= 1): # Check for \"base case\" (when recursion is no longer needed).\n",
    "        return inputStr\n",
    "    \n",
    "    return reverseString(inputStr[1:]) + inputStr[0]"
   ]
  },
  {
   "cell_type": "code",
   "execution_count": 38,
   "metadata": {
    "collapsed": false
   },
   "outputs": [
    {
     "data": {
      "text/plain": [
       "'321CBA'"
      ]
     },
     "execution_count": 38,
     "metadata": {},
     "output_type": "execute_result"
    }
   ],
   "source": [
    "reverseString(\"ABC123\")"
   ]
  },
  {
   "cell_type": "code",
   "execution_count": 40,
   "metadata": {
    "collapsed": false
   },
   "outputs": [
    {
     "data": {
      "text/plain": [
       "''"
      ]
     },
     "execution_count": 40,
     "metadata": {},
     "output_type": "execute_result"
    }
   ],
   "source": [
    "reverseString(\"\")"
   ]
  },
  {
   "cell_type": "code",
   "execution_count": 42,
   "metadata": {
    "collapsed": false
   },
   "outputs": [
    {
     "data": {
      "text/plain": [
       "'321CBA'"
      ]
     },
     "execution_count": 42,
     "metadata": {},
     "output_type": "execute_result"
    }
   ],
   "source": [
    "# Naturally, Python has built in tools for this already -_-\n",
    "\"ABC123\"[::-1]"
   ]
  },
  {
   "cell_type": "code",
   "execution_count": null,
   "metadata": {
    "collapsed": true
   },
   "outputs": [],
   "source": [
    "# More recursion\n",
    "def reverseString"
   ]
  },
  {
   "cell_type": "code",
   "execution_count": null,
   "metadata": {
    "collapsed": true
   },
   "outputs": [],
   "source": []
  },
  {
   "cell_type": "code",
   "execution_count": null,
   "metadata": {
    "collapsed": true
   },
   "outputs": [],
   "source": []
  },
  {
   "cell_type": "code",
   "execution_count": null,
   "metadata": {
    "collapsed": true
   },
   "outputs": [],
   "source": []
  },
  {
   "cell_type": "code",
   "execution_count": 1,
   "metadata": {
    "collapsed": true
   },
   "outputs": [],
   "source": [
    "someNumber = 10"
   ]
  },
  {
   "cell_type": "code",
   "execution_count": 8,
   "metadata": {
    "collapsed": true
   },
   "outputs": [],
   "source": [
    "def functionThatModifiesNumber(someNumber):\n",
    "    print(\"Passed in\", str(someNumber))\n",
    "    someNumber = someNumber*10\n",
    "    print(\"Result is\", str(someNumber))"
   ]
  },
  {
   "cell_type": "code",
   "execution_count": 9,
   "metadata": {
    "collapsed": false
   },
   "outputs": [
    {
     "name": "stdout",
     "output_type": "stream",
     "text": [
      "Value is 10\n",
      "Passed in 10\n",
      "Result is 100\n"
     ]
    }
   ],
   "source": [
    "print(\"Value is\", str(someNumber))\n",
    "functionThatModifiesNumber(someNumber)"
   ]
  },
  {
   "cell_type": "code",
   "execution_count": 10,
   "metadata": {
    "collapsed": true
   },
   "outputs": [],
   "source": [
    "# Method that returns 2 outputs\n",
    "def calculateAreaAndCircumfrence(radiusList):\n",
    "    areaResultsList = []\n",
    "    circResultsList = []\n",
    "    resultHash = {'Areas':areaResultsList, 'Circumfrences':circResultsList}\n",
    "    for radius in radiusList:\n",
    "        areaResultsList.append(3.14*radius**2)\n",
    "        circResultsList.append(3.14*radius*2)\n",
    "    return resultHash        "
   ]
  },
  {
   "cell_type": "code",
   "execution_count": 11,
   "metadata": {
    "collapsed": false
   },
   "outputs": [
    {
     "name": "stdout",
     "output_type": "stream",
     "text": [
      "{'Areas': [3.14, 12.56, 28.26, 50.24], 'Circumfrences': [6.28, 12.56, 18.84, 25.12]}\n"
     ]
    }
   ],
   "source": [
    "# Testing the function\n",
    "radiusList = [1,2,3,4]\n",
    "resultMap = calculateAreaAndCircumfrence(radiusList)\n",
    "print(resultMap)"
   ]
  },
  {
   "cell_type": "code",
   "execution_count": null,
   "metadata": {
    "collapsed": true
   },
   "outputs": [],
   "source": [
    "# Nerdmode: This is an example of pass-by-object reference, which is also used in Java.\n",
    "someNum = 5\n",
    "someStr = \"Abc\"\n",
    "someList = [\"Saturday\",\"Monday\"]\n",
    "someDict = {\"Pi\":3.14}\n",
    "\n",
    "def functionThatReassigns(someNum, someStr, someList, someDict):\n",
    "    someNum = someNum + 10\n",
    "    someStr = someStr + \"xyz\"\n",
    "    someList.append(\"Tuesday\")\n",
    "    someDict[\"Pi\"] = 3.1415\n",
    "    return\n",
    "\n",
    "print(\"Before:\\n{0}\\n{1}\\n{2}\\n{3}\".format(someNum, someStr, someList, someDict))\n",
    "functionThatReassigns(someNum, someStr, someList, someDict)\n",
    "print(\"\\nAfter:\\n{0}\\n{1}\\n{2}\\n{3}\".format(someNum, someStr, someList, someDict))"
   ]
  },
  {
   "cell_type": "code",
   "execution_count": null,
   "metadata": {
    "collapsed": true
   },
   "outputs": [],
   "source": []
  },
  {
   "cell_type": "code",
   "execution_count": null,
   "metadata": {
    "collapsed": true
   },
   "outputs": [],
   "source": []
  },
  {
   "cell_type": "code",
   "execution_count": null,
   "metadata": {
    "collapsed": true
   },
   "outputs": [],
   "source": []
  },
  {
   "cell_type": "code",
   "execution_count": null,
   "metadata": {
    "collapsed": true
   },
   "outputs": [],
   "source": []
  },
  {
   "cell_type": "code",
   "execution_count": null,
   "metadata": {
    "collapsed": true
   },
   "outputs": [],
   "source": []
  },
  {
   "cell_type": "code",
   "execution_count": null,
   "metadata": {
    "collapsed": true
   },
   "outputs": [],
   "source": []
  },
  {
   "cell_type": "code",
   "execution_count": null,
   "metadata": {
    "collapsed": true
   },
   "outputs": [],
   "source": []
  },
  {
   "cell_type": "code",
   "execution_count": null,
   "metadata": {
    "collapsed": true
   },
   "outputs": [],
   "source": []
  },
  {
   "cell_type": "code",
   "execution_count": null,
   "metadata": {
    "collapsed": true
   },
   "outputs": [],
   "source": []
  },
  {
   "cell_type": "code",
   "execution_count": null,
   "metadata": {
    "collapsed": true
   },
   "outputs": [],
   "source": []
  },
  {
   "cell_type": "code",
   "execution_count": null,
   "metadata": {
    "collapsed": true
   },
   "outputs": [],
   "source": []
  },
  {
   "cell_type": "code",
   "execution_count": null,
   "metadata": {
    "collapsed": true
   },
   "outputs": [],
   "source": []
  }
 ],
 "metadata": {
  "kernelspec": {
   "display_name": "Python 3",
   "language": "python",
   "name": "python3"
  },
  "language_info": {
   "codemirror_mode": {
    "name": "ipython",
    "version": 3
   },
   "file_extension": ".py",
   "mimetype": "text/x-python",
   "name": "python",
   "nbconvert_exporter": "python",
   "pygments_lexer": "ipython3",
   "version": "3.5.2"
  }
 },
 "nbformat": 4,
 "nbformat_minor": 0
}
